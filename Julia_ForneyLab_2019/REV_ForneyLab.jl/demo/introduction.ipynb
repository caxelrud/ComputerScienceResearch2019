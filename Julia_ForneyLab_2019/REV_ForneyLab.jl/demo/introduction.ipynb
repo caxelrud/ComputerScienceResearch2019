{
 "cells": [
  {
   "cell_type": "markdown",
   "metadata": {},
   "source": [
    "# Introduction to ForneyLab\n",
    "\n",
    "ForneyLab is a toolbox for deriving solutions to probabilistic inference problems by message passing on Forney-style factor graphs. A Forney-style factor graph (FFG) is a graphical representation of a factorized probabilistic model. Message passing solutions to inference tasks can be automatically derived from a probabilistic model specification. ForneyLab yields message passing algorithms (MPA) as Julia code. In other words, ForneyLab is a Julia program that automatically builds inference programs that are specified as Julia programs.\n",
    "\n",
    "These demos assume that the user is familiar with the FFG formalism. We recommend the following introductions: \n",
    "\n",
    "1. H.-A. Loeliger, J. Dauwels, J. Hu, S. Korl, Li Ping, and F. Kschischang,\n",
    "[The factor graph approach to model-based signal processing](https://people.ee.ethz.ch/~papers/docu/aloe-jdau-juhu-skor-2007-1.pdf), Proceedings of the IEEE, vol. 95, no. 6, pp. 1295-1322, June 2007. \n",
    "2. Korl, Sascha, [A factor graph approach to signal modelling, system identification and filtering](https://www.research-collection.ethz.ch/handle/20.500.11850/82737), Series in signal and information processing\n",
    "Doctoral Thesis, 2005\n",
    "\n",
    "We designed ForneyLab to be practical, while retaining maximal flexibility. The inherent modularity of the FFG framework allowed us to make ForneyLab extensible at all levels (nodes, update rules, algorithms, inference engines). Although we had performance in mind while developing ForneyLab, optimally efficient execution of the resulting inference programs (specified in Julia as message passing sequence) may still require custom work.  \n",
    "\n",
    "The ForneyLab approach to solving inference problems consists of three phases:\n",
    "\n",
    "1. **Model specification**. ForneyLab provides a simple meta-language to specifiy models.\n",
    "2. **Message Passing Agorithm (MPA) Generation**. This task is automatically performed by ForneyLab.\n",
    "3. **MPA Execution**. This is simply evaluating a Julia program.\n",
    "\n",
    "Each of the demos will step through these phases in turn, showcasing the most important ForneyLab functionalities. Although the demos each stand on their own, a recommended order would be\n",
    "\n",
    "1. `introduction`\n",
    "2. `state_estimation_forward_only`\n",
    "3. `state_estimation_forward_backward`\n",
    "4. `bayes_rule_2d`\n",
    "5. `kalman_smoother_2d`\n",
    "6. `variational_estimation_iid_gaussian`\n",
    "7. `variational_estimation_gaussian_mixture`\n",
    "8. `expectation_propagation`\n",
    "9. `expectation_maximization`\n",
    "10. `composite_nodes`\n",
    "11. `structured_variational_estimation`\n",
    "12. `hidden_markov_model_estimation`\n",
    "\n",
    "# Factor Graphs and Variables\n",
    "\n",
    "A central concept in ForneyLab is the (random) `Variable` type. After including ForneyLab and indicating that we start a new `FactorGraph`, we can declare a `Variable` by calling its constructor function: "
   ]
  },
  {
   "cell_type": "code",
   "execution_count": 1,
   "metadata": {},
   "outputs": [
    {
     "data": {
      "text/plain": [
       "Dict{Symbol,Variable} with 1 entry:\n",
       "  :x => Variable(:x, Edges:…"
      ]
     },
     "execution_count": 1,
     "metadata": {},
     "output_type": "execute_result"
    }
   ],
   "source": [
    "using ForneyLab\n",
    "\n",
    "# Declare a new graph\n",
    "g = FactorGraph()\n",
    "\n",
    "# Declare a variable\n",
    "x = Variable(id=:x)\n",
    "\n",
    "g.variables"
   ]
  },
  {
   "cell_type": "markdown",
   "metadata": {},
   "source": [
    "The call to `FactorGraph()` creates a factor graph type and registers the graph as the currently active graph. Note that the variable has been associated with an edge in the currently active graph. \n",
    "\n",
    "ForneyLab comes equipped with the `@RV` macro to define random variables. For instance, defining a new variable `y` with identifier `:y` and associating the variable to the current graph can also be accomplished by executing `@RV y`:"
   ]
  },
  {
   "cell_type": "code",
   "execution_count": 2,
   "metadata": {},
   "outputs": [
    {
     "data": {
      "text/plain": [
       "Dict{Symbol,Variable} with 2 entries:\n",
       "  :y => Variable(:y, Edges:…\n",
       "  :x => Variable(:x, Edges:…"
      ]
     },
     "execution_count": 2,
     "metadata": {},
     "output_type": "execute_result"
    }
   ],
   "source": [
    "@RV y\n",
    "\n",
    "g.variables"
   ]
  },
  {
   "cell_type": "markdown",
   "metadata": {},
   "source": [
    "We can assign a probability distribution to a random variable by the `~` operator:"
   ]
  },
  {
   "cell_type": "code",
   "execution_count": 3,
   "metadata": {
    "scrolled": true
   },
   "outputs": [
    {
     "data": {
      "text/plain": [
       "Dict{Symbol,Variable} with 5 entries:\n",
       "  :clamp_2 => Variable(:clamp_2, Edges:…\n",
       "  :y       => Variable(:y, Edges:…\n",
       "  :clamp_1 => Variable(:clamp_1, Edges:…\n",
       "  :z       => Variable(:z, Edges:…\n",
       "  :x       => Variable(:x, Edges:…"
      ]
     },
     "execution_count": 3,
     "metadata": {},
     "output_type": "execute_result"
    }
   ],
   "source": [
    "@RV z ~ GaussianMeanVariance(0.0, 1.0)\n",
    "g.variables"
   ]
  },
  {
   "cell_type": "markdown",
   "metadata": {},
   "source": [
    "Note that the graph now also includes two variables with id `:clamp_1` and `:clamp_2`. These two variables correspond to the mean and variance parameters for the Gaussian and are clamped to values `0.0` and `1.0` respectively.\n",
    "\n",
    "If you have [graphviz](https://www.graphviz.org/) installed, then you can draw the factor graph. (Edges (variables) that are not constrained by any factor are not drawn):"
   ]
  },
  {
   "cell_type": "code",
   "execution_count": 4,
   "metadata": {},
   "outputs": [
    {
     "data": {
      "text/html": [
       "<?xml version=\"1.0\" encoding=\"UTF-8\" standalone=\"no\"?>\r\n",
       "<!DOCTYPE svg PUBLIC \"-//W3C//DTD SVG 1.1//EN\"\r\n",
       " \"http://www.w3.org/Graphics/SVG/1.1/DTD/svg11.dtd\">\r\n",
       "<!-- Generated by graphviz version 2.38.0 (20140413.2041)\r\n",
       " -->\r\n",
       "<!-- Title: G Pages: 1 -->\r\n",
       "<svg width=\"233pt\" height=\"278pt\"\r\n",
       " viewBox=\"0.00 0.00 233.39 278.00\" xmlns=\"http://www.w3.org/2000/svg\" xmlns:xlink=\"http://www.w3.org/1999/xlink\">\r\n",
       "<g id=\"graph0\" class=\"graph\" transform=\"scale(1 1) rotate(0) translate(4 274)\">\r\n",
       "<title>G</title>\r\n",
       "<polygon fill=\"white\" stroke=\"none\" points=\"-4,4 -4,-274 229.395,-274 229.395,4 -4,4\"/>\r\n",
       "<!-- 15950353866949326664 -->\r\n",
       "<g id=\"node1\" class=\"node\"><title>15950353866949326664</title>\r\n",
       "<polygon fill=\"lightgrey\" stroke=\"black\" points=\"56.3949,-54 2.39488,-54 2.39488,-0 56.3949,-0 56.3949,-54\"/>\r\n",
       "<text text-anchor=\"middle\" x=\"29.3949\" y=\"-24.8\" font-family=\"Times New Roman,serif\" font-size=\"9.00\">clamp_1</text>\r\n",
       "</g>\r\n",
       "<!-- 10065977336276825811 -->\r\n",
       "<g id=\"node2\" class=\"node\"><title>10065977336276825811</title>\r\n",
       "<polygon fill=\"lightgrey\" stroke=\"black\" points=\"225.395,-54 171.395,-54 171.395,-0 225.395,-0 225.395,-54\"/>\r\n",
       "<text text-anchor=\"middle\" x=\"198.395\" y=\"-24.8\" font-family=\"Times New Roman,serif\" font-size=\"9.00\">clamp_2</text>\r\n",
       "</g>\r\n",
       "<!-- 1165345475937147423 -->\r\n",
       "<g id=\"node3\" class=\"node\"><title>1165345475937147423</title>\r\n",
       "<polygon fill=\"none\" stroke=\"black\" points=\"165.395,-171 61.3949,-171 61.3949,-99 165.395,-99 165.395,-171\"/>\r\n",
       "<text text-anchor=\"middle\" x=\"113.395\" y=\"-137.8\" font-family=\"Times New Roman,serif\" font-size=\"9.00\">𝒩</text>\r\n",
       "<text text-anchor=\"middle\" x=\"113.395\" y=\"-127.8\" font-family=\"Times New Roman,serif\" font-size=\"9.00\">gaussianmeanvariance_1</text>\r\n",
       "</g>\r\n",
       "<!-- 1165345475937147423&#45;&#45;15950353866949326664 -->\r\n",
       "<g id=\"edge1\" class=\"edge\"><title>1165345475937147423&#45;&#45;15950353866949326664</title>\r\n",
       "<path fill=\"none\" stroke=\"black\" d=\"M61.1492,-114.586C46.6646,-106.511 32.6592,-95.5402 24.3949,-81 19.8279,-72.965 19.5918,-63.1201 21,-54.1055\"/>\r\n",
       "<text text-anchor=\"start\" x=\"24.3949\" y=\"-74.6\" font-family=\"Times New Roman,serif\" font-size=\"8.00\" fill=\"red\">clamp_1</text>\r\n",
       "<text text-anchor=\"start\" x=\"0\" y=\"-56.7055\" font-family=\"Times New Roman,serif\" font-size=\"8.00\">1 out </text>\r\n",
       "<text text-anchor=\"start\" x=\"45.1492\" y=\"-117.186\" font-family=\"Times New Roman,serif\" font-size=\"8.00\">2 m </text>\r\n",
       "</g>\r\n",
       "<!-- 1165345475937147423&#45;&#45;10065977336276825811 -->\r\n",
       "<g id=\"edge3\" class=\"edge\"><title>1165345475937147423&#45;&#45;10065977336276825811</title>\r\n",
       "<path fill=\"none\" stroke=\"black\" d=\"M141.463,-98.9979C153.165,-84.4044 166.524,-67.7451 177.359,-54.2331\"/>\r\n",
       "<text text-anchor=\"start\" x=\"160.395\" y=\"-74.6\" font-family=\"Times New Roman,serif\" font-size=\"8.00\" fill=\"red\">clamp_2</text>\r\n",
       "<text text-anchor=\"start\" x=\"156.359\" y=\"-56.8331\" font-family=\"Times New Roman,serif\" font-size=\"8.00\">1 out </text>\r\n",
       "<text text-anchor=\"start\" x=\"127.463\" y=\"-92.5979\" font-family=\"Times New Roman,serif\" font-size=\"8.00\">3 v </text>\r\n",
       "</g>\r\n",
       "<!-- 85377630231327942632 -->\r\n",
       "<g id=\"node4\" class=\"node\"><title>85377630231327942632</title>\r\n",
       "</g>\r\n",
       "<!-- 85377630231327942632&#45;&#45;1165345475937147423 -->\r\n",
       "<g id=\"edge2\" class=\"edge\"><title>85377630231327942632&#45;&#45;1165345475937147423</title>\r\n",
       "<path fill=\"none\" stroke=\"black\" d=\"M113.395,-215.798C113.395,-202.31 113.395,-185.68 113.395,-171.099\"/>\r\n",
       "<text text-anchor=\"start\" x=\"113.395\" y=\"-191.6\" font-family=\"Times New Roman,serif\" font-size=\"8.00\" fill=\"red\">z</text>\r\n",
       "<text text-anchor=\"start\" x=\"92.3949\" y=\"-173.699\" font-family=\"Times New Roman,serif\" font-size=\"8.00\">1 out </text>\r\n",
       "</g>\r\n",
       "</g>\r\n",
       "</svg>\r\n"
      ]
     },
     "metadata": {},
     "output_type": "display_data"
    }
   ],
   "source": [
    "ForneyLab.draw(g) # draw the graph"
   ]
  },
  {
   "cell_type": "markdown",
   "metadata": {},
   "source": [
    "In case you don't like the automatically generated id's `:clamp_1` and `:clamp_2`, you could have declared the parameters of the Gaussian distribution through the `@RV` macro and associated a `Clamp` distribution with these variables:"
   ]
  },
  {
   "cell_type": "code",
   "execution_count": 5,
   "metadata": {},
   "outputs": [
    {
     "data": {
      "text/plain": [
       "Dict{Symbol,Variable} with 3 entries:\n",
       "  :m => Variable(:m, Edges:…\n",
       "  :v => Variable(:v, Edges:…\n",
       "  :z => Variable(:z, Edges:…"
      ]
     },
     "execution_count": 5,
     "metadata": {},
     "output_type": "execute_result"
    }
   ],
   "source": [
    "g2 = FactorGraph()\n",
    "@RV m ~ Clamp(0.0)\n",
    "@RV v ~ Clamp(1.0)\n",
    "@RV z ~ GaussianMeanVariance(m, v)\n",
    "g2.variables"
   ]
  },
  {
   "cell_type": "code",
   "execution_count": 6,
   "metadata": {},
   "outputs": [
    {
     "data": {
      "text/html": [
       "<?xml version=\"1.0\" encoding=\"UTF-8\" standalone=\"no\"?>\r\n",
       "<!DOCTYPE svg PUBLIC \"-//W3C//DTD SVG 1.1//EN\"\r\n",
       " \"http://www.w3.org/Graphics/SVG/1.1/DTD/svg11.dtd\">\r\n",
       "<!-- Generated by graphviz version 2.38.0 (20140413.2041)\r\n",
       " -->\r\n",
       "<!-- Title: G Pages: 1 -->\r\n",
       "<svg width=\"231pt\" height=\"278pt\"\r\n",
       " viewBox=\"0.00 0.00 231.00 278.00\" xmlns=\"http://www.w3.org/2000/svg\" xmlns:xlink=\"http://www.w3.org/1999/xlink\">\r\n",
       "<g id=\"graph0\" class=\"graph\" transform=\"scale(1 1) rotate(0) translate(4 274)\">\r\n",
       "<title>G</title>\r\n",
       "<polygon fill=\"white\" stroke=\"none\" points=\"-4,4 -4,-274 227,-274 227,4 -4,4\"/>\r\n",
       "<!-- 11213783859701046526 -->\r\n",
       "<g id=\"node1\" class=\"node\"><title>11213783859701046526</title>\r\n",
       "<polygon fill=\"lightgrey\" stroke=\"black\" points=\"54,-54 0,-54 0,-0 54,-0 54,-54\"/>\r\n",
       "<text text-anchor=\"middle\" x=\"27\" y=\"-24.8\" font-family=\"Times New Roman,serif\" font-size=\"9.00\">clamp_1</text>\r\n",
       "</g>\r\n",
       "<!-- 12029872037016350493 -->\r\n",
       "<g id=\"node2\" class=\"node\"><title>12029872037016350493</title>\r\n",
       "<polygon fill=\"none\" stroke=\"black\" points=\"163,-171 59,-171 59,-99 163,-99 163,-171\"/>\r\n",
       "<text text-anchor=\"middle\" x=\"111\" y=\"-137.8\" font-family=\"Times New Roman,serif\" font-size=\"9.00\">𝒩</text>\r\n",
       "<text text-anchor=\"middle\" x=\"111\" y=\"-127.8\" font-family=\"Times New Roman,serif\" font-size=\"9.00\">gaussianmeanvariance_1</text>\r\n",
       "</g>\r\n",
       "<!-- 12029872037016350493&#45;&#45;11213783859701046526 -->\r\n",
       "<g id=\"edge2\" class=\"edge\"><title>12029872037016350493&#45;&#45;11213783859701046526</title>\r\n",
       "<path fill=\"none\" stroke=\"black\" d=\"M61.6093,-98.7606C55.8521,-93.2646 50.4555,-87.301 46,-81 40.3565,-73.0189 36.2228,-63.1859 33.2805,-54.1656\"/>\r\n",
       "<text text-anchor=\"start\" x=\"46\" y=\"-74.6\" font-family=\"Times New Roman,serif\" font-size=\"8.00\" fill=\"red\">m</text>\r\n",
       "<text text-anchor=\"start\" x=\"12.2805\" y=\"-56.7656\" font-family=\"Times New Roman,serif\" font-size=\"8.00\">1 out </text>\r\n",
       "<text text-anchor=\"start\" x=\"45.6093\" y=\"-92.3606\" font-family=\"Times New Roman,serif\" font-size=\"8.00\">2 m </text>\r\n",
       "</g>\r\n",
       "<!-- 17616024178248183665 -->\r\n",
       "<g id=\"node3\" class=\"node\"><title>17616024178248183665</title>\r\n",
       "<polygon fill=\"lightgrey\" stroke=\"black\" points=\"223,-54 169,-54 169,-0 223,-0 223,-54\"/>\r\n",
       "<text text-anchor=\"middle\" x=\"196\" y=\"-24.8\" font-family=\"Times New Roman,serif\" font-size=\"9.00\">clamp_2</text>\r\n",
       "</g>\r\n",
       "<!-- 12029872037016350493&#45;&#45;17616024178248183665 -->\r\n",
       "<g id=\"edge1\" class=\"edge\"><title>12029872037016350493&#45;&#45;17616024178248183665</title>\r\n",
       "<path fill=\"none\" stroke=\"black\" d=\"M139.068,-98.9979C150.77,-84.4044 164.129,-67.7451 174.964,-54.2331\"/>\r\n",
       "<text text-anchor=\"start\" x=\"158\" y=\"-74.6\" font-family=\"Times New Roman,serif\" font-size=\"8.00\" fill=\"red\">v</text>\r\n",
       "<text text-anchor=\"start\" x=\"153.964\" y=\"-56.8331\" font-family=\"Times New Roman,serif\" font-size=\"8.00\">1 out </text>\r\n",
       "<text text-anchor=\"start\" x=\"125.068\" y=\"-92.5979\" font-family=\"Times New Roman,serif\" font-size=\"8.00\">3 v </text>\r\n",
       "</g>\r\n",
       "<!-- 119702704987966121122 -->\r\n",
       "<g id=\"node4\" class=\"node\"><title>119702704987966121122</title>\r\n",
       "</g>\r\n",
       "<!-- 119702704987966121122&#45;&#45;12029872037016350493 -->\r\n",
       "<g id=\"edge3\" class=\"edge\"><title>119702704987966121122&#45;&#45;12029872037016350493</title>\r\n",
       "<path fill=\"none\" stroke=\"black\" d=\"M111,-215.798C111,-202.31 111,-185.68 111,-171.099\"/>\r\n",
       "<text text-anchor=\"start\" x=\"111\" y=\"-191.6\" font-family=\"Times New Roman,serif\" font-size=\"8.00\" fill=\"red\">z</text>\r\n",
       "<text text-anchor=\"start\" x=\"90\" y=\"-173.699\" font-family=\"Times New Roman,serif\" font-size=\"8.00\">1 out </text>\r\n",
       "</g>\r\n",
       "</g>\r\n",
       "</svg>\r\n"
      ]
     },
     "metadata": {},
     "output_type": "display_data"
    }
   ],
   "source": [
    "ForneyLab.draw(g2)"
   ]
  },
  {
   "cell_type": "markdown",
   "metadata": {},
   "source": [
    "The graph stores the identifier of each variable. This is useful because now we can retrieve a variable from a graph by its identifier, .e.g.,"
   ]
  },
  {
   "cell_type": "code",
   "execution_count": 7,
   "metadata": {},
   "outputs": [
    {
     "data": {
      "text/plain": [
       "Variable(:m, Edges:\n",
       "Edge belonging to variable m: ( clamp_1.i[out] )----( gaussianmeanvariance_1.i[m] ).\n",
       ")"
      ]
     },
     "execution_count": 7,
     "metadata": {},
     "output_type": "execute_result"
    }
   ],
   "source": [
    "g2.variables[:m]"
   ]
  },
  {
   "cell_type": "markdown",
   "metadata": {},
   "source": [
    "Let's build another simple factor graph for \n",
    "$$\\begin{align*}\n",
    "p(x,y,z) &= p(z|x,y)\\,p(x)\\,p(y) \\\\\n",
    "  &= \\delta(z-x-y)\\,\\mathcal{N}(x\\,|\\,0.0,1.0)\\,\\mathcal{N}(y\\,|\\,2.0,3.0)\n",
    "\\end{align*}$$"
   ]
  },
  {
   "cell_type": "code",
   "execution_count": 8,
   "metadata": {},
   "outputs": [
    {
     "data": {
      "text/html": [
       "<?xml version=\"1.0\" encoding=\"UTF-8\" standalone=\"no\"?>\r\n",
       "<!DOCTYPE svg PUBLIC \"-//W3C//DTD SVG 1.1//EN\"\r\n",
       " \"http://www.w3.org/Graphics/SVG/1.1/DTD/svg11.dtd\">\r\n",
       "<!-- Generated by graphviz version 2.38.0 (20140413.2041)\r\n",
       " -->\r\n",
       "<!-- Title: G Pages: 1 -->\r\n",
       "<svg width=\"581pt\" height=\"395pt\"\r\n",
       " viewBox=\"0.00 0.00 581.00 395.00\" xmlns=\"http://www.w3.org/2000/svg\" xmlns:xlink=\"http://www.w3.org/1999/xlink\">\r\n",
       "<g id=\"graph0\" class=\"graph\" transform=\"scale(1 1) rotate(0) translate(4 391)\">\r\n",
       "<title>G</title>\r\n",
       "<polygon fill=\"white\" stroke=\"none\" points=\"-4,4 -4,-391 577,-391 577,4 -4,4\"/>\r\n",
       "<!-- 6250434450868393432 -->\r\n",
       "<g id=\"node1\" class=\"node\"><title>6250434450868393432</title>\r\n",
       "<polygon fill=\"lightgrey\" stroke=\"black\" points=\"404,-54 350,-54 350,-0 404,-0 404,-54\"/>\r\n",
       "<text text-anchor=\"middle\" x=\"377\" y=\"-24.8\" font-family=\"Times New Roman,serif\" font-size=\"9.00\">clamp_3</text>\r\n",
       "</g>\r\n",
       "<!-- 4027082208151477709 -->\r\n",
       "<g id=\"node2\" class=\"node\"><title>4027082208151477709</title>\r\n",
       "<polygon fill=\"lightgrey\" stroke=\"black\" points=\"54,-54 0,-54 0,-0 54,-0 54,-54\"/>\r\n",
       "<text text-anchor=\"middle\" x=\"27\" y=\"-24.8\" font-family=\"Times New Roman,serif\" font-size=\"9.00\">clamp_2</text>\r\n",
       "</g>\r\n",
       "<!-- 15352174231597294789 -->\r\n",
       "<g id=\"node3\" class=\"node\"><title>15352174231597294789</title>\r\n",
       "<polygon fill=\"none\" stroke=\"black\" points=\"304,-288 232,-288 232,-216 304,-216 304,-288\"/>\r\n",
       "<text text-anchor=\"middle\" x=\"268\" y=\"-254.8\" font-family=\"Times New Roman,serif\" font-size=\"9.00\">+</text>\r\n",
       "<text text-anchor=\"middle\" x=\"268\" y=\"-244.8\" font-family=\"Times New Roman,serif\" font-size=\"9.00\">addition_1</text>\r\n",
       "</g>\r\n",
       "<!-- 14216082688881268699 -->\r\n",
       "<g id=\"node4\" class=\"node\"><title>14216082688881268699</title>\r\n",
       "<polygon fill=\"none\" stroke=\"black\" points=\"235,-171 131,-171 131,-99 235,-99 235,-171\"/>\r\n",
       "<text text-anchor=\"middle\" x=\"183\" y=\"-137.8\" font-family=\"Times New Roman,serif\" font-size=\"9.00\">𝒩</text>\r\n",
       "<text text-anchor=\"middle\" x=\"183\" y=\"-127.8\" font-family=\"Times New Roman,serif\" font-size=\"9.00\">gaussianmeanvariance_1</text>\r\n",
       "</g>\r\n",
       "<!-- 15352174231597294789&#45;&#45;14216082688881268699 -->\r\n",
       "<g id=\"edge4\" class=\"edge\"><title>15352174231597294789&#45;&#45;14216082688881268699</title>\r\n",
       "<path fill=\"none\" stroke=\"black\" d=\"M242.035,-215.871C231.587,-201.736 219.56,-185.463 209.099,-171.31\"/>\r\n",
       "<text text-anchor=\"start\" x=\"229\" y=\"-191.6\" font-family=\"Times New Roman,serif\" font-size=\"8.00\" fill=\"red\">x</text>\r\n",
       "<text text-anchor=\"start\" x=\"188.099\" y=\"-173.91\" font-family=\"Times New Roman,serif\" font-size=\"8.00\">1 out </text>\r\n",
       "<text text-anchor=\"start\" x=\"221.035\" y=\"-209.471\" font-family=\"Times New Roman,serif\" font-size=\"8.00\">2 in1 </text>\r\n",
       "</g>\r\n",
       "<!-- 17575400511439571852 -->\r\n",
       "<g id=\"node7\" class=\"node\"><title>17575400511439571852</title>\r\n",
       "<polygon fill=\"none\" stroke=\"black\" points=\"454,-171 350,-171 350,-99 454,-99 454,-171\"/>\r\n",
       "<text text-anchor=\"middle\" x=\"402\" y=\"-137.8\" font-family=\"Times New Roman,serif\" font-size=\"9.00\">𝒩</text>\r\n",
       "<text text-anchor=\"middle\" x=\"402\" y=\"-127.8\" font-family=\"Times New Roman,serif\" font-size=\"9.00\">gaussianmeanvariance_2</text>\r\n",
       "</g>\r\n",
       "<!-- 15352174231597294789&#45;&#45;17575400511439571852 -->\r\n",
       "<g id=\"edge2\" class=\"edge\"><title>15352174231597294789&#45;&#45;17575400511439571852</title>\r\n",
       "<path fill=\"none\" stroke=\"black\" d=\"M304.262,-219.879C321.779,-204.846 342.875,-186.741 360.978,-171.206\"/>\r\n",
       "<text text-anchor=\"start\" x=\"339\" y=\"-191.6\" font-family=\"Times New Roman,serif\" font-size=\"8.00\" fill=\"red\">y</text>\r\n",
       "<text text-anchor=\"start\" x=\"339.978\" y=\"-173.806\" font-family=\"Times New Roman,serif\" font-size=\"8.00\">1 out </text>\r\n",
       "<text text-anchor=\"start\" x=\"304.262\" y=\"-222.479\" font-family=\"Times New Roman,serif\" font-size=\"8.00\">3 in2 </text>\r\n",
       "</g>\r\n",
       "<!-- 14216082688881268699&#45;&#45;4027082208151477709 -->\r\n",
       "<g id=\"edge7\" class=\"edge\"><title>14216082688881268699&#45;&#45;4027082208151477709</title>\r\n",
       "<path fill=\"none\" stroke=\"black\" d=\"M131.487,-98.9979C105.75,-81.5098 75.6473,-61.0552 54.381,-46.605\"/>\r\n",
       "<text text-anchor=\"start\" x=\"105\" y=\"-74.6\" font-family=\"Times New Roman,serif\" font-size=\"8.00\" fill=\"red\">clamp_2</text>\r\n",
       "<text text-anchor=\"start\" x=\"54.381\" y=\"-49.205\" font-family=\"Times New Roman,serif\" font-size=\"8.00\">1 out </text>\r\n",
       "<text text-anchor=\"start\" x=\"117.487\" y=\"-92.5979\" font-family=\"Times New Roman,serif\" font-size=\"8.00\">3 v </text>\r\n",
       "</g>\r\n",
       "<!-- 732712404331934010 -->\r\n",
       "<g id=\"node6\" class=\"node\"><title>732712404331934010</title>\r\n",
       "<polygon fill=\"lightgrey\" stroke=\"black\" points=\"223,-54 169,-54 169,-0 223,-0 223,-54\"/>\r\n",
       "<text text-anchor=\"middle\" x=\"196\" y=\"-24.8\" font-family=\"Times New Roman,serif\" font-size=\"9.00\">clamp_1</text>\r\n",
       "</g>\r\n",
       "<!-- 14216082688881268699&#45;&#45;732712404331934010 -->\r\n",
       "<g id=\"edge3\" class=\"edge\"><title>14216082688881268699&#45;&#45;732712404331934010</title>\r\n",
       "<path fill=\"none\" stroke=\"black\" d=\"M187.293,-98.9979C189.082,-84.4044 191.126,-67.7451 192.783,-54.2331\"/>\r\n",
       "<text text-anchor=\"start\" x=\"191\" y=\"-74.6\" font-family=\"Times New Roman,serif\" font-size=\"8.00\" fill=\"red\">clamp_1</text>\r\n",
       "<text text-anchor=\"start\" x=\"171.783\" y=\"-56.8331\" font-family=\"Times New Roman,serif\" font-size=\"8.00\">1 out </text>\r\n",
       "<text text-anchor=\"start\" x=\"171.293\" y=\"-92.5979\" font-family=\"Times New Roman,serif\" font-size=\"8.00\">2 m </text>\r\n",
       "</g>\r\n",
       "<!-- 7240580548003578834 -->\r\n",
       "<g id=\"node5\" class=\"node\"><title>7240580548003578834</title>\r\n",
       "<polygon fill=\"lightgrey\" stroke=\"black\" points=\"573,-54 519,-54 519,-0 573,-0 573,-54\"/>\r\n",
       "<text text-anchor=\"middle\" x=\"546\" y=\"-24.8\" font-family=\"Times New Roman,serif\" font-size=\"9.00\">clamp_4</text>\r\n",
       "</g>\r\n",
       "<!-- 17575400511439571852&#45;&#45;6250434450868393432 -->\r\n",
       "<g id=\"edge1\" class=\"edge\"><title>17575400511439571852&#45;&#45;6250434450868393432</title>\r\n",
       "<path fill=\"none\" stroke=\"black\" d=\"M378.869,-98.8647C376.039,-93.0995 373.589,-87.0324 372,-81 369.74,-72.4201 369.878,-62.8219 370.934,-54.1759\"/>\r\n",
       "<text text-anchor=\"start\" x=\"372\" y=\"-74.6\" font-family=\"Times New Roman,serif\" font-size=\"8.00\" fill=\"red\">clamp_3</text>\r\n",
       "<text text-anchor=\"start\" x=\"349.934\" y=\"-56.7759\" font-family=\"Times New Roman,serif\" font-size=\"8.00\">1 out </text>\r\n",
       "<text text-anchor=\"start\" x=\"362.869\" y=\"-92.4647\" font-family=\"Times New Roman,serif\" font-size=\"8.00\">2 m </text>\r\n",
       "</g>\r\n",
       "<!-- 17575400511439571852&#45;&#45;7240580548003578834 -->\r\n",
       "<g id=\"edge5\" class=\"edge\"><title>17575400511439571852&#45;&#45;7240580548003578834</title>\r\n",
       "<path fill=\"none\" stroke=\"black\" d=\"M449.55,-98.9979C472.488,-82.1129 499.183,-62.4623 518.666,-48.1209\"/>\r\n",
       "<text text-anchor=\"start\" x=\"482\" y=\"-74.6\" font-family=\"Times New Roman,serif\" font-size=\"8.00\" fill=\"red\">clamp_4</text>\r\n",
       "<text text-anchor=\"start\" x=\"497.666\" y=\"-50.7209\" font-family=\"Times New Roman,serif\" font-size=\"8.00\">1 out </text>\r\n",
       "<text text-anchor=\"start\" x=\"435.55\" y=\"-92.5979\" font-family=\"Times New Roman,serif\" font-size=\"8.00\">3 v </text>\r\n",
       "</g>\r\n",
       "<!-- 104498375777127387252 -->\r\n",
       "<g id=\"node8\" class=\"node\"><title>104498375777127387252</title>\r\n",
       "</g>\r\n",
       "<!-- 104498375777127387252&#45;&#45;15352174231597294789 -->\r\n",
       "<g id=\"edge6\" class=\"edge\"><title>104498375777127387252&#45;&#45;15352174231597294789</title>\r\n",
       "<path fill=\"none\" stroke=\"black\" d=\"M268,-332.798C268,-319.31 268,-302.68 268,-288.099\"/>\r\n",
       "<text text-anchor=\"start\" x=\"268\" y=\"-308.6\" font-family=\"Times New Roman,serif\" font-size=\"8.00\" fill=\"red\">z</text>\r\n",
       "<text text-anchor=\"start\" x=\"247\" y=\"-290.699\" font-family=\"Times New Roman,serif\" font-size=\"8.00\">1 out </text>\r\n",
       "</g>\r\n",
       "</g>\r\n",
       "</svg>\r\n"
      ]
     },
     "metadata": {},
     "output_type": "display_data"
    }
   ],
   "source": [
    "g3 = FactorGraph()\n",
    "@RV x ~ GaussianMeanVariance(0.0, 1.0)\n",
    "@RV y ~ GaussianMeanVariance(2.0, 3.0)\n",
    "@RV z = x + y\n",
    "ForneyLab.draw(g3)"
   ]
  },
  {
   "cell_type": "markdown",
   "metadata": {},
   "source": [
    "Next, we could be interested in inferring a property of `z`, e.g., the mean parameter for the distribution over `z`. This process can be automated by message passing in the graph. The next set of demo's will expand on the various methods for describing graphs and message passing inference methods with ForneyLab."
   ]
  },
  {
   "cell_type": "code",
   "execution_count": null,
   "metadata": {},
   "outputs": [],
   "source": []
  }
 ],
 "metadata": {
  "kernelspec": {
   "display_name": "Julia 1.1.1",
   "language": "julia",
   "name": "julia-1.1"
  },
  "language_info": {
   "file_extension": ".jl",
   "mimetype": "application/julia",
   "name": "julia",
   "version": "1.1.1"
  }
 },
 "nbformat": 4,
 "nbformat_minor": 2
}
